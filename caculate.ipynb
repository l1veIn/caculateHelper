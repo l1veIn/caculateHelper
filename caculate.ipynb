{
 "cells": [
  {
   "cell_type": "code",
   "execution_count": 3,
   "metadata": {
    "ExecuteTime": {
     "end_time": "2020-06-27T15:38:36.681987Z",
     "start_time": "2020-06-27T15:38:36.639Z"
    }
   },
   "outputs": [
    {
     "data": {
      "text/plain": [
       "undefined"
      ]
     },
     "execution_count": 3,
     "metadata": {},
     "output_type": "execute_result"
    }
   ],
   "source": [
    "function word2number(w){  \n",
    "    var e = \"零一二三四五六七八九\";  \n",
    "    var ew = [\"十\",\"百\",\"千\"];  \n",
    "    var ej = [\"万\",\"亿\"];  \n",
    "    var rss = \"^([\"+e+ew.join(\"\")+\"]+\"+ej[1]+\")?([\"+e+ew.join(\"\")+\"]+\"+ej[0]+\")?([\"+e+ew.join(\"\")+\"]+)?$\";  \n",
    "    //     ^([零一二三四五六七八九十百千]+亿)?([零一二三四五六七八九十百千]+万)?([零一二三四五六七八九十百千]+)?$   \n",
    "    var arr = new RegExp(rss).exec(w);  \n",
    "    function foh(str){  \n",
    "        str = new String(str);      \n",
    "        var a=0;  \n",
    "        if(str.indexOf(ew[0])==0)a=10;                \n",
    "            str=str.replace(new RegExp(e.charAt(0),\"g\"),\"\");  \n",
    "        if(new RegExp(\"([\"+e+\"])$\").test(str))  \n",
    "            a+=e.indexOf(RegExp.$1);  \n",
    "        if(new RegExp(\"([\"+e+\"])\"+ew[0]).test(str))  \n",
    "            a+=e.indexOf(RegExp.$1)*10;  \n",
    "        if(new RegExp(\"([\"+e+\"])\"+ew[1]).test(str))  \n",
    "            a+=e.indexOf(RegExp.$1)*100;  \n",
    "        if(new RegExp(\"([\"+e+\"])\"+ew[2]).test(str))  \n",
    "            a+=e.indexOf(RegExp.$1)*1000;  \n",
    "        return a;  \n",
    "    }  \n",
    "    return foh(arr[1])*100000000+foh(arr[2])*10000+foh(arr[3]);  \n",
    "}  "
   ]
  },
  {
   "cell_type": "code",
   "execution_count": 10,
   "metadata": {
    "ExecuteTime": {
     "end_time": "2020-06-27T15:39:42.499283Z",
     "start_time": "2020-06-27T15:39:42.491Z"
    }
   },
   "outputs": [
    {
     "data": {
      "text/plain": [
       "502"
      ]
     },
     "execution_count": 10,
     "metadata": {},
     "output_type": "execute_result"
    }
   ],
   "source": [
    "word2number('五百零二')"
   ]
  },
  {
   "cell_type": "code",
   "execution_count": 3,
   "metadata": {
    "ExecuteTime": {
     "end_time": "2020-06-30T09:02:04.437665Z",
     "start_time": "2020-06-30T09:02:04.369Z"
    }
   },
   "outputs": [
    {
     "data": {
      "text/plain": [
       "undefined"
      ]
     },
     "execution_count": 3,
     "metadata": {},
     "output_type": "execute_result"
    }
   ],
   "source": [
    "var chnNumChar = {\n",
    "    零: 0,\n",
    "    一: 1,\n",
    "    二: 2,\n",
    "    三: 3,\n",
    "    四: 4,\n",
    "    五: 5,\n",
    "    六: 6,\n",
    "    七: 7,\n",
    "    八: 8,\n",
    "    九: 9\n",
    "};\n",
    "\n",
    "var chnNameValue = {\n",
    "    十: {\n",
    "        value: 10,\n",
    "        secUnit: false\n",
    "    },\n",
    "    百: {\n",
    "        value: 100,\n",
    "        secUnit: false\n",
    "    },\n",
    "    千: {\n",
    "        value: 1000,\n",
    "        secUnit: false\n",
    "    },\n",
    "    万: {\n",
    "        value: 10000,\n",
    "        secUnit: true\n",
    "    },\n",
    "    亿: {\n",
    "        value: 100000000,\n",
    "        secUnit: true\n",
    "    }\n",
    "}\n",
    "\n",
    "function ChineseToNumber(chnStr) {\n",
    "    var rtn = 0;\n",
    "    var section = 0;\n",
    "    var number = 0;\n",
    "    var secUnit = false;\n",
    "    var str = chnStr.split('');\n",
    "\n",
    "    for (var i = 0; i < str.length; i++) {\n",
    "        var num = chnNumChar[str[i]];\n",
    "        if (typeof num !== 'undefined') {\n",
    "            number = num;\n",
    "            if (i === str.length - 1) {\n",
    "                section += number;\n",
    "            }\n",
    "        } else {\n",
    "            if (typeof chnNameValue[str[i]]!== 'undefined') {\n",
    "                var unit = chnNameValue[str[i]].value;\n",
    "                secUnit = chnNameValue[str[i]].secUnit;\n",
    "                if (secUnit) {\n",
    "                    section = (section + number) * unit;\n",
    "                    rtn += section;\n",
    "                    section = 0;\n",
    "                } else {\n",
    "                    section += (number * unit);\n",
    "                }\n",
    "                number = 0;\n",
    "            } else {\n",
    "                return '对不起我没有听懂'\n",
    "            }\n",
    "\n",
    "        }\n",
    "    }\n",
    "    return rtn + section;\n",
    "}"
   ]
  },
  {
   "cell_type": "code",
   "execution_count": 9,
   "metadata": {
    "ExecuteTime": {
     "end_time": "2020-06-30T09:02:32.573157Z",
     "start_time": "2020-06-30T09:02:32.567Z"
    }
   },
   "outputs": [
    {
     "data": {
      "text/plain": [
       "1"
      ]
     },
     "execution_count": 9,
     "metadata": {},
     "output_type": "execute_result"
    }
   ],
   "source": [
    "ChineseToNumber(\"一\")"
   ]
  },
  {
   "cell_type": "code",
   "execution_count": null,
   "metadata": {},
   "outputs": [],
   "source": [
    "var key={\n",
    "    '分之':'/',\n",
    "    '点':'.',\n",
    "    '加':'+',\n",
    "    '减':'-',\n",
    "    '乘':'*',\n",
    "//     '除':'/',\n",
    "    '除以':'/',\n",
    "    '的':'',\n",
    "    '次方':'**',\n",
    "    '平方':'**2',\n",
    "    '':'',\n",
    "    '':'',\n",
    "    \n",
    "}"
   ]
  },
  {
   "cell_type": "code",
   "execution_count": 219,
   "metadata": {
    "ExecuteTime": {
     "end_time": "2020-06-28T08:41:52.113374Z",
     "start_time": "2020-06-28T08:41:52.106Z"
    }
   },
   "outputs": [
    {
     "data": {
      "text/plain": [
       "undefined"
      ]
     },
     "execution_count": 219,
     "metadata": {},
     "output_type": "execute_result"
    }
   ],
   "source": [
    "var toMath = function(str) {\n",
    "    if (/[加减]/.exec(str)) {\n",
    "        let tmp = str.replace(/加/g, \",+,\")\n",
    "        tmp = tmp.replace(/减/g, \",-,\")\n",
    "        let res = ''\n",
    "        tmp.split(',').map(function(x){\n",
    "            if(['+','-'].indexOf(x)==-1){\n",
    "                res = res + toMath(x) \n",
    "            }else{\n",
    "                res = res + x\n",
    "            }\n",
    "        })\n",
    "        return res\n",
    "    }else if (/[乘除]/.exec(str)) {\n",
    "        let tmp\n",
    "        tmp = str.replace(/乘以/g, \",*,\")\n",
    "        tmp = tmp.replace(/乘/g, \",*,\")\n",
    "        tmp = tmp.replace(/除以/g, \",/,\")\n",
    "        let res = ''\n",
    "        tmp.split(',').map(function(x){\n",
    "            if(['*','/'].indexOf(x)==-1){\n",
    "                res = res + toMath(x) \n",
    "            }else{\n",
    "                res = res + x\n",
    "            }\n",
    "        })\n",
    "        return res\n",
    "    }else if (/分之/.exec(str)) {\n",
    "        let tmp = str.replace(/分之/g, \",/,\")\n",
    "        console.log(111,tmp)\n",
    "        let res = ''\n",
    "//         tmp.reverse()\n",
    "        tmp.split(',').reverse().map(function(x){\n",
    "            if(['/'].indexOf(x)==-1){\n",
    "                res = res + toMath(x) \n",
    "            }else{\n",
    "                res = res + x\n",
    "            }\n",
    "        })\n",
    "        return \"(\" +res+ \")\"\n",
    "    }else if (/次方$/.exec(str)) {\n",
    "        let tmp = str.slice(0, /次方$/.exec(str).index)\n",
    "        let res = /.*的/.exec(tmp)\n",
    "        let A = res[0].substr(0, res[0].length - 1)\n",
    "        let B = res.input.replace(res[0], \"\")\n",
    "        return \"(\" + toMath(A)+ \")\" +\"^\"+ \"(\" + toMath(B) + \")\"\n",
    "    } else if (/的平方$/.exec(str)) {\n",
    "        let tmp = str.slice(0, /的平方$/.exec(str).index)\n",
    "        return \"(\"+toMath(tmp)+\")\" +\"^\"+  (2)\n",
    "    } else if (/的立方$/.exec(str)) {\n",
    "        let tmp = str.slice(0, /的立方$/.exec(str).index)\n",
    "        return \"(\"+toMath(tmp)+\")\" +\"^\"+  (3)\n",
    "    }else {\n",
    "        return ChineseToNumber(str)\n",
    "    }\n",
    "}"
   ]
  },
  {
   "cell_type": "code",
   "execution_count": 221,
   "metadata": {
    "ExecuteTime": {
     "end_time": "2020-06-28T08:41:58.787513Z",
     "start_time": "2020-06-28T08:41:58.781Z"
    }
   },
   "outputs": [
    {
     "name": "stdout",
     "output_type": "stream",
     "text": [
      "111 '150,/,1001'\n"
     ]
    },
    {
     "data": {
      "text/plain": [
       "'(对不起我没有听懂/对不起我没有听懂)'"
      ]
     },
     "execution_count": 221,
     "metadata": {},
     "output_type": "execute_result"
    }
   ],
   "source": [
    "toMath('150分之1001')"
   ]
  },
  {
   "cell_type": "code",
   "execution_count": 153,
   "metadata": {
    "ExecuteTime": {
     "end_time": "2020-06-28T06:31:04.101509Z",
     "start_time": "2020-06-28T06:31:04.094Z"
    }
   },
   "outputs": [
    {
     "data": {
      "text/plain": [
       "'(2)**2+(3)**2-(1)**2'"
      ]
     },
     "execution_count": 153,
     "metadata": {},
     "output_type": "execute_result"
    }
   ],
   "source": [
    "toMath(\"二的平方加三的平方减一的平方\")"
   ]
  },
  {
   "cell_type": "code",
   "execution_count": 154,
   "metadata": {
    "ExecuteTime": {
     "end_time": "2020-06-28T06:31:05.741863Z",
     "start_time": "2020-06-28T06:31:05.735Z"
    }
   },
   "outputs": [
    {
     "data": {
      "text/plain": [
       "'2/(3)**2+(3)**2-(1)**2'"
      ]
     },
     "execution_count": 154,
     "metadata": {},
     "output_type": "execute_result"
    }
   ],
   "source": [
    "toMath(\"二除以三的平方加三的平方减一的平方\")"
   ]
  },
  {
   "cell_type": "code",
   "execution_count": 225,
   "metadata": {
    "ExecuteTime": {
     "end_time": "2020-06-28T08:50:46.344680Z",
     "start_time": "2020-06-28T08:50:46.337Z"
    }
   },
   "outputs": [
    {
     "data": {
      "text/plain": [
       "'8.2222'"
      ]
     },
     "execution_count": 225,
     "metadata": {},
     "output_type": "execute_result"
    }
   ],
   "source": [
    "eval('2/(3)**2+(3)**2-(1)**2').toFixed(4)"
   ]
  },
  {
   "cell_type": "code",
   "execution_count": 169,
   "metadata": {
    "ExecuteTime": {
     "end_time": "2020-06-28T06:34:38.503634Z",
     "start_time": "2020-06-28T06:34:38.495Z"
    }
   },
   "outputs": [
    {
     "name": "stdout",
     "output_type": "stream",
     "text": [
      "111 '二,/,一'\n"
     ]
    },
    {
     "data": {
      "text/plain": [
       "'(1/2)*(3)**2+(3)**2-(1)**2'"
      ]
     },
     "execution_count": 169,
     "metadata": {},
     "output_type": "execute_result"
    }
   ],
   "source": [
    "toMath(\"二分之一乘三的平方加三的平方减一的平方\")"
   ]
  },
  {
   "cell_type": "code",
   "execution_count": 144,
   "metadata": {
    "ExecuteTime": {
     "end_time": "2020-06-28T06:27:05.949950Z",
     "start_time": "2020-06-28T06:27:05.943Z"
    }
   },
   "outputs": [
    {
     "data": {
      "text/plain": [
       "[ '分之',\n",
       "  index: 1,\n",
       "  input: '二分之一乘三的平方加三的平方减一的平方',\n",
       "  groups: undefined ]"
      ]
     },
     "execution_count": 144,
     "metadata": {},
     "output_type": "execute_result"
    }
   ],
   "source": [
    "/分之/.exec(\"二分之一乘三的平方加三的平方减一的平方\")"
   ]
  },
  {
   "cell_type": "code",
   "execution_count": 194,
   "metadata": {
    "ExecuteTime": {
     "end_time": "2020-06-28T07:12:23.527465Z",
     "start_time": "2020-06-28T07:12:23.520Z"
    }
   },
   "outputs": [
    {
     "data": {
      "text/plain": [
       "'二减三减一asdkjalksj asd askj das j0123.667分之除以乘'"
      ]
     },
     "execution_count": 194,
     "metadata": {},
     "output_type": "execute_result"
    }
   ],
   "source": [
    "str = \"二减三减一asdkjalksj asd askj das j0123.667分之除以乘\""
   ]
  },
  {
   "cell_type": "code",
   "execution_count": 156,
   "metadata": {
    "ExecuteTime": {
     "end_time": "2020-06-28T06:31:15.531943Z",
     "start_time": "2020-06-28T06:31:15.526Z"
    }
   },
   "outputs": [
    {
     "data": {
      "text/plain": [
       "'二减三减一'"
      ]
     },
     "execution_count": 156,
     "metadata": {},
     "output_type": "execute_result"
    }
   ],
   "source": [
    "str"
   ]
  },
  {
   "cell_type": "code",
   "execution_count": 188,
   "metadata": {
    "ExecuteTime": {
     "end_time": "2020-06-28T07:03:44.379183Z",
     "start_time": "2020-06-28T07:03:44.373Z"
    }
   },
   "outputs": [
    {
     "data": {
      "text/plain": [
       "',-,减三减,-,'"
      ]
     },
     "execution_count": 188,
     "metadata": {},
     "output_type": "execute_result"
    }
   ],
   "source": [
    "str.replace(/[^(减三)]/g, \",-,\")"
   ]
  },
  {
   "cell_type": "code",
   "execution_count": 195,
   "metadata": {
    "ExecuteTime": {
     "end_time": "2020-06-28T07:12:25.517023Z",
     "start_time": "2020-06-28T07:12:25.511Z"
    }
   },
   "outputs": [
    {
     "data": {
      "text/plain": [
       "'二减三减一0123.667分之除以乘'"
      ]
     },
     "execution_count": 195,
     "metadata": {},
     "output_type": "execute_result"
    }
   ],
   "source": [
    "str.replace(/[^0-9一二三四五六七八九零加减乘除以的平方次方立方分之\\/\\*\\+\\-\\.]/g, \"\")"
   ]
  },
  {
   "cell_type": "code",
   "execution_count": 111,
   "metadata": {
    "ExecuteTime": {
     "end_time": "2020-06-28T05:38:33.732430Z",
     "start_time": "2020-06-28T05:38:33.722Z"
    }
   },
   "outputs": [
    {
     "data": {
      "text/plain": [
       "[ '减', index: 1, input: '二减三', groups: undefined ]"
      ]
     },
     "execution_count": 111,
     "metadata": {},
     "output_type": "execute_result"
    }
   ],
   "source": [
    "/[加,减]/.exec(str)"
   ]
  },
  {
   "cell_type": "code",
   "execution_count": 69,
   "metadata": {
    "ExecuteTime": {
     "end_time": "2020-06-28T03:50:18.759692Z",
     "start_time": "2020-06-28T03:50:18.752Z"
    }
   },
   "outputs": [
    {
     "ename": "SyntaxError",
     "evalue": "Identifier 'tmp' has already been declared",
     "output_type": "error",
     "traceback": [
      "evalmachine.<anonymous>:1",
      "let tmp = str.slice(0,/次方$/.exec(str).index)",
      "^",
      "",
      "SyntaxError: Identifier 'tmp' has already been declared",
      "    at evalmachine.<anonymous>:1:1",
      "    at Script.runInThisContext (vm.js:122:20)",
      "    at Object.runInThisContext (vm.js:329:38)",
      "    at run ([eval]:1054:15)",
      "    at onRunRequest ([eval]:888:18)",
      "    at onMessage ([eval]:848:13)",
      "    at process.emit (events.js:198:13)",
      "    at emit (internal/child_process.js:832:12)",
      "    at process._tickCallback (internal/process/next_tick.js:63:19)"
     ]
    }
   ],
   "source": [
    "let tmp = str.slice(0,/次方$/.exec(str).index)"
   ]
  },
  {
   "cell_type": "code",
   "execution_count": 70,
   "metadata": {
    "ExecuteTime": {
     "end_time": "2020-06-28T03:50:26.593588Z",
     "start_time": "2020-06-28T03:50:26.584Z"
    }
   },
   "outputs": [
    {
     "data": {
      "text/plain": [
       "'二的三次方的三'"
      ]
     },
     "execution_count": 70,
     "metadata": {},
     "output_type": "execute_result"
    }
   ],
   "source": [
    "tmp"
   ]
  },
  {
   "cell_type": "code",
   "execution_count": 71,
   "metadata": {
    "ExecuteTime": {
     "end_time": "2020-06-28T03:50:49.771254Z",
     "start_time": "2020-06-28T03:50:49.763Z"
    }
   },
   "outputs": [
    {
     "data": {
      "text/plain": [
       "[ '二的三次方的', index: 0, input: '二的三次方的三', groups: undefined ]"
      ]
     },
     "execution_count": 71,
     "metadata": {},
     "output_type": "execute_result"
    }
   ],
   "source": [
    "res = /.*的/.exec(tmp)"
   ]
  },
  {
   "cell_type": "code",
   "execution_count": 76,
   "metadata": {
    "ExecuteTime": {
     "end_time": "2020-06-28T03:52:02.971914Z",
     "start_time": "2020-06-28T03:52:02.965Z"
    }
   },
   "outputs": [
    {
     "data": {
      "text/plain": [
       "'二的三次方'"
      ]
     },
     "execution_count": 76,
     "metadata": {},
     "output_type": "execute_result"
    }
   ],
   "source": [
    "res[0].substr(0,res[0].length-1)"
   ]
  },
  {
   "cell_type": "code",
   "execution_count": 78,
   "metadata": {
    "ExecuteTime": {
     "end_time": "2020-06-28T03:53:50.034307Z",
     "start_time": "2020-06-28T03:53:50.028Z"
    }
   },
   "outputs": [
    {
     "data": {
      "text/plain": [
       "'三'"
      ]
     },
     "execution_count": 78,
     "metadata": {},
     "output_type": "execute_result"
    }
   ],
   "source": [
    "res.input.replace(res[0],\"\")"
   ]
  },
  {
   "cell_type": "code",
   "execution_count": 50,
   "metadata": {
    "ExecuteTime": {
     "end_time": "2020-06-28T03:11:59.027869Z",
     "start_time": "2020-06-28T03:11:59.020Z"
    }
   },
   "outputs": [
    {
     "data": {
      "text/plain": [
       "undefined"
      ]
     },
     "execution_count": 50,
     "metadata": {},
     "output_type": "execute_result"
    }
   ],
   "source": [
    "let tmparr = tmp.split('的')"
   ]
  },
  {
   "cell_type": "code",
   "execution_count": 52,
   "metadata": {
    "ExecuteTime": {
     "end_time": "2020-06-28T03:12:14.562571Z",
     "start_time": "2020-06-28T03:12:14.555Z"
    }
   },
   "outputs": [
    {
     "data": {
      "text/plain": [
       "'三'"
      ]
     },
     "execution_count": 52,
     "metadata": {},
     "output_type": "execute_result"
    }
   ],
   "source": [
    "tmparr[tmparr.length-1]"
   ]
  },
  {
   "cell_type": "code",
   "execution_count": 48,
   "metadata": {
    "ExecuteTime": {
     "end_time": "2020-06-28T03:11:08.487561Z",
     "start_time": "2020-06-28T03:11:08.479Z"
    }
   },
   "outputs": [
    {
     "data": {
      "text/plain": [
       "undefined"
      ]
     },
     "execution_count": 48,
     "metadata": {},
     "output_type": "execute_result"
    }
   ],
   "source": [
    "tmp.split('的')[tmp.length]"
   ]
  },
  {
   "cell_type": "code",
   "execution_count": 18,
   "metadata": {
    "ExecuteTime": {
     "end_time": "2020-06-30T09:11:02.802644Z",
     "start_time": "2020-06-30T09:11:02.795Z"
    }
   },
   "outputs": [
    {
     "data": {
      "text/plain": [
       "undefined"
      ]
     },
     "execution_count": 18,
     "metadata": {},
     "output_type": "execute_result"
    }
   ],
   "source": [
    "function isOperator(value) {\n",
    "    var operatorString = \"+-*/()^\";\n",
    "    return operatorString.indexOf(value) > -1\n",
    "}\n",
    " \n",
    "function getPrioraty(value) {\n",
    "    switch (value) {\n",
    "        case '+':\n",
    "        case '-':\n",
    "            return 1;\n",
    "        case '*':\n",
    "        case '/':\n",
    "            return 2;\n",
    "        case '^':\n",
    "            return 3;\n",
    "        default:\n",
    "            return 0;\n",
    "    }\n",
    "}\n",
    " \n",
    "function prioraty(o1, o2) {\n",
    "    return getPrioraty(o1) <= getPrioraty(o2);\n",
    "}\n",
    " \n",
    "function dal2Rpn(exp) {\n",
    "    exp=exp+'+0'\n",
    "  var inputStack = [];\n",
    "    var outputStack = [];\n",
    "    var outputQueue = [];\n",
    "    let res = '';\n",
    "    for (var i = 0, len = exp.length; i < len; i++) {\n",
    "      var cur = exp[i];\n",
    "      if (cur != ' ') {\n",
    "        res = res + cur;\n",
    "        if (i + 1 < exp.length) {\n",
    "          if (isOperator(exp[i])) {\n",
    "            inputStack.push(res);\n",
    "            res = ''\n",
    "          } else {\n",
    "            if (isOperator(exp[i + 1])) {\n",
    "              inputStack.push(res);\n",
    "              res = ''\n",
    "            }\n",
    "          }\n",
    "        } else {\n",
    "          inputStack.push(res);\n",
    "          res = ''\n",
    "        }\n",
    "      }\n",
    "    }\n",
    " \n",
    "    while (inputStack.length > 0) {\n",
    "        var cur = inputStack.shift();\n",
    "        if (isOperator(cur)) {\n",
    "            if (cur == '(') {\n",
    "                outputStack.push(cur);\n",
    "            } else if (cur == ')') {\n",
    "                var po = outputStack.pop();\n",
    "                while (po != '(' && outputStack.length > 0) {\n",
    "                    outputQueue.push(po);\n",
    "                    po = outputStack.pop();\n",
    "                }\n",
    "                if (po != '(') {\n",
    "                    throw \"error: unmatched ()\";\n",
    "                }\n",
    "            } else {\n",
    "                while (prioraty(cur, outputStack[outputStack.length - 1]) && outputStack.length > 0) {\n",
    "                    outputQueue.push(outputStack.pop());\n",
    "                }\n",
    "                outputStack.push(cur);\n",
    "            }\n",
    "        } else {\n",
    "            outputQueue.push(new Number(cur));\n",
    "        }\n",
    "    }\n",
    " \n",
    "    if (outputStack.length > 0) {\n",
    "        if (outputStack[outputStack.length - 1] == ')' || outputStack[outputStack.length - 1] == '(') {\n",
    "            throw \"error: unmatched ()\";\n",
    "        }\n",
    "        while (outputStack.length > 0) {\n",
    "            outputQueue.push(outputStack.pop());\n",
    "        }\n",
    "    }\n",
    " \n",
    "    return outputQueue;\n",
    " \n",
    "}"
   ]
  },
  {
   "cell_type": "code",
   "execution_count": 10,
   "metadata": {
    "ExecuteTime": {
     "end_time": "2020-06-30T09:09:24.873443Z",
     "start_time": "2020-06-30T09:09:24.866Z"
    }
   },
   "outputs": [
    {
     "data": {
      "text/plain": [
       "undefined"
      ]
     },
     "execution_count": 10,
     "metadata": {},
     "output_type": "execute_result"
    }
   ],
   "source": [
    "function evalRpn(rpnQueue) {\n",
    "    var outputStack = [];\n",
    "    while (rpnQueue.length > 0) {\n",
    "        var cur = rpnQueue.shift();\n",
    " \n",
    "        if (!isOperator(cur)) {\n",
    "            outputStack.push(cur);\n",
    "        } else {\n",
    "            if (outputStack.length < 2) {\n",
    "                throw \"unvalid stack length\";\n",
    "            }\n",
    "            var sec = outputStack.pop();\n",
    "            var fir = outputStack.pop();\n",
    " \n",
    "            outputStack.push(getResult(fir, sec, cur));\n",
    "        }\n",
    "    }\n",
    "    if (outputStack.length != 1) {\n",
    "        throw \"unvalid expression\";\n",
    "    } else {\n",
    "        return outputStack[0];\n",
    "    }\n",
    "}\n",
    "function getResult(first, second, operator) {\n",
    "    var result = 0;\n",
    "    switch (operator) {\n",
    "        case '+':\n",
    "            result = first + second;\n",
    "            break;\n",
    "        case '-':\n",
    "            result = first - second;\n",
    "            break;\n",
    "        case '*':\n",
    "            result = first * second;\n",
    "            break;\n",
    "        case '/':\n",
    "            result = first / second;\n",
    "            break;\n",
    "        case '^':\n",
    "            result = Math.pow(first,second);\n",
    "            break;\n",
    "        default:\n",
    "            return 0;\n",
    "    }\n",
    " \n",
    "    //浮点数的小数位超过两位时，只保留两位小数点\n",
    "    function formatFloat(f, digit) {\n",
    "        //pow(10,n) 为 10 的 n 次方\n",
    "        var m = Math.pow(10, digit);\n",
    "        return parseInt(f * m, 10) / m;\n",
    "    }\n",
    "    return (formatFloat(result, 2));\n",
    "}"
   ]
  },
  {
   "cell_type": "code",
   "execution_count": 232,
   "metadata": {
    "ExecuteTime": {
     "end_time": "2020-06-28T09:45:34.278514Z",
     "start_time": "2020-06-28T09:45:34.272Z"
    }
   },
   "outputs": [
    {
     "data": {
      "text/plain": [
       "'3 *4 +5+7'"
      ]
     },
     "execution_count": 232,
     "metadata": {},
     "output_type": "execute_result"
    }
   ],
   "source": [
    "'3 *4 +5+7'"
   ]
  },
  {
   "cell_type": "code",
   "execution_count": 17,
   "metadata": {
    "ExecuteTime": {
     "end_time": "2020-06-30T09:10:05.704949Z",
     "start_time": "2020-06-30T09:10:05.697Z"
    }
   },
   "outputs": [
    {
     "data": {
      "text/plain": [
       "[ [Number: 3] ]"
      ]
     },
     "execution_count": 17,
     "metadata": {},
     "output_type": "execute_result"
    }
   ],
   "source": [
    "dal2Rpn('3')"
   ]
  },
  {
   "cell_type": "code",
   "execution_count": 20,
   "metadata": {
    "ExecuteTime": {
     "end_time": "2020-06-30T09:11:08.391245Z",
     "start_time": "2020-06-30T09:11:08.378Z"
    }
   },
   "outputs": [
    {
     "data": {
      "text/plain": [
       "3"
      ]
     },
     "execution_count": 20,
     "metadata": {},
     "output_type": "execute_result"
    }
   ],
   "source": [
    "evalRpn(dal2Rpn('2+1'))"
   ]
  }
 ],
 "metadata": {
  "kernelspec": {
   "display_name": "Javascript (Node.js)",
   "language": "javascript",
   "name": "javascript"
  },
  "language_info": {
   "file_extension": ".js",
   "mimetype": "application/javascript",
   "name": "javascript",
   "version": "10.16.2"
  },
  "latex_envs": {
   "LaTeX_envs_menu_present": true,
   "autoclose": false,
   "autocomplete": true,
   "bibliofile": "biblio.bib",
   "cite_by": "apalike",
   "current_citInitial": 1,
   "eqLabelWithNumbers": true,
   "eqNumInitial": 1,
   "hotkeys": {
    "equation": "Ctrl-E",
    "itemize": "Ctrl-I"
   },
   "labels_anchors": false,
   "latex_user_defs": false,
   "report_style_numbering": false,
   "user_envs_cfg": false
  }
 },
 "nbformat": 4,
 "nbformat_minor": 2
}
